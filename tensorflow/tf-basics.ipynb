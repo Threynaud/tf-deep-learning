{
 "cells": [
  {
   "cell_type": "code",
   "execution_count": 3,
   "metadata": {
    "ExecuteTime": {
     "end_time": "2017-05-26T13:59:03.861328Z",
     "start_time": "2017-05-26T13:59:03.857383Z"
    },
    "collapsed": true
   },
   "outputs": [],
   "source": [
    "import tensorflow as tf\n",
    "import numpy as np"
   ]
  },
  {
   "cell_type": "markdown",
   "metadata": {
    "ExecuteTime": {
     "end_time": "2017-05-26T13:58:41.461450Z",
     "start_time": "2017-05-26T13:58:41.458421Z"
    }
   },
   "source": [
    "# Basic Operations"
   ]
  },
  {
   "cell_type": "markdown",
   "metadata": {},
   "source": [
    "## Placeholders, constants, operations and session"
   ]
  },
  {
   "cell_type": "markdown",
   "metadata": {},
   "source": [
    "A `placeholder` returns a `Tensor` that may be used as a handle for feeding a value, but not evaluated directly.\n",
    "\n",
    "`shape` and `name` are optional."
   ]
  },
  {
   "cell_type": "code",
   "execution_count": 17,
   "metadata": {
    "ExecuteTime": {
     "end_time": "2017-05-26T14:11:40.422405Z",
     "start_time": "2017-05-26T14:11:40.413846Z"
    },
    "collapsed": true
   },
   "outputs": [],
   "source": [
    "a = tf.placeholder(tf.float32, shape=(), name= 'a')\n",
    "b = tf.placeholder(tf.float32, shape=(), name='b')"
   ]
  },
  {
   "cell_type": "markdown",
   "metadata": {},
   "source": [
    "A `placeholder_with_default` returns a `Tensor` that has the same type as `input`. It is a placeholder tensor that defaults to `input` if it is not fed."
   ]
  },
  {
   "cell_type": "code",
   "execution_count": 23,
   "metadata": {
    "ExecuteTime": {
     "end_time": "2017-05-26T14:17:30.619333Z",
     "start_time": "2017-05-26T14:17:30.612520Z"
    },
    "collapsed": true
   },
   "outputs": [],
   "source": [
    "c = tf.placeholder_with_default(5.0, shape=(), name='c')"
   ]
  },
  {
   "cell_type": "markdown",
   "metadata": {},
   "source": [
    "Another type of node is a `constant`. Like all TensorFlow constants, it takes no inputs, and it outputs a value it stores internally. This `Tensor` can be evaluated directly, it doesn't need to be fed a value."
   ]
  },
  {
   "cell_type": "code",
   "execution_count": 29,
   "metadata": {
    "ExecuteTime": {
     "end_time": "2017-05-26T14:43:13.510076Z",
     "start_time": "2017-05-26T14:43:13.504450Z"
    },
    "collapsed": true
   },
   "outputs": [],
   "source": [
    "d = tf.constant(4.5, tf.float32)"
   ]
  },
  {
   "cell_type": "markdown",
   "metadata": {},
   "source": [
    "Define basic symbolic operations.\n",
    "\n",
    "An `Operation` is a node in a TensorFlow `Graph` that takes zero or more `Tensor` objects as input, and produces zero or more `Tensor` objects as output.\n",
    "\n",
    "For example `mul = tf.multiply(a, b)` creates an `Operation` of type `multiply` that takes tensors `a` and `b` as input, and produces `mul` as output."
   ]
  },
  {
   "cell_type": "code",
   "execution_count": 34,
   "metadata": {
    "ExecuteTime": {
     "end_time": "2017-05-26T14:52:51.846907Z",
     "start_time": "2017-05-26T14:52:51.835497Z"
    }
   },
   "outputs": [],
   "source": [
    "mul = tf.multiply(a, b)\n",
    "mul_with_default = tf.multiply(a, c)\n",
    "mul_with_constant =tf.multiply(a, d)\n",
    "mul_short = a * b # Shortcut"
   ]
  },
  {
   "cell_type": "markdown",
   "metadata": {},
   "source": [
    "A `Session` is a class for running TensorFlow operations.\n",
    "\n",
    "A `Session` object encapsulates the environment in which `Operation` objects are executed, and `Tensor` objects are evaluated."
   ]
  },
  {
   "cell_type": "code",
   "execution_count": 36,
   "metadata": {
    "ExecuteTime": {
     "end_time": "2017-05-26T15:05:02.696993Z",
     "start_time": "2017-05-26T15:05:02.606192Z"
    }
   },
   "outputs": [
    {
     "name": "stdout",
     "output_type": "stream",
     "text": [
      "Multiply two tensors: 6.0\n",
      "Multiply with a default placeholder: 10.0\n",
      "Multiply with a default placeholder taht is fed a value: 16.0\n",
      "Multiply with a constant: 9.0\n",
      "Multiply two tensors using the short definition for the node: 6.0\n"
     ]
    }
   ],
   "source": [
    "with tf.Session() as sess:\n",
    "    print(\"Multiply two tensors: {}\".format(sess.run(mul, feed_dict={a: 2, b: 3})))\n",
    "    print(\"Multiply with a default placeholder: {}\".format(sess.run(mul_with_default, feed_dict={a:2})))\n",
    "    print(\"Multiply with a default placeholder taht is fed a value: {}\".format(sess.run(mul_with_default, feed_dict={a:2, c:8})))\n",
    "    print(\"Multiply with a constant: {}\".format(sess.run(mul_with_constant, feed_dict={a:2})))\n",
    "    print(\"Multiply two tensors using the short definition for the node: {}\".format(sess.run(mul_short, feed_dict={a:2, b:3})))"
   ]
  }
 ],
 "metadata": {
  "kernelspec": {
   "display_name": "Python 3",
   "language": "python",
   "name": "python3"
  },
  "language_info": {
   "codemirror_mode": {
    "name": "ipython",
    "version": 3
   },
   "file_extension": ".py",
   "mimetype": "text/x-python",
   "name": "python",
   "nbconvert_exporter": "python",
   "pygments_lexer": "ipython3",
   "version": "3.6.1"
  },
  "toc": {
   "colors": {
    "hover_highlight": "#DAA520",
    "navigate_num": "#000000",
    "navigate_text": "#333333",
    "running_highlight": "#FF0000",
    "selected_highlight": "#FFD700",
    "sidebar_border": "#EEEEEE",
    "wrapper_background": "#FFFFFF"
   },
   "moveMenuLeft": true,
   "nav_menu": {
    "height": "43px",
    "width": "254px"
   },
   "navigate_menu": true,
   "number_sections": true,
   "sideBar": true,
   "threshold": 4,
   "toc_cell": false,
   "toc_section_display": "block",
   "toc_window_display": false,
   "widenNotebook": false
  }
 },
 "nbformat": 4,
 "nbformat_minor": 2
}
