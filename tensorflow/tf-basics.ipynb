{
 "cells": [
  {
   "cell_type": "code",
   "execution_count": 1,
   "metadata": {
    "ExecuteTime": {
     "end_time": "2017-05-26T15:54:07.016672Z",
     "start_time": "2017-05-26T15:54:05.820693Z"
    },
    "collapsed": true
   },
   "outputs": [],
   "source": [
    "import tensorflow as tf\n",
    "import numpy as np"
   ]
  },
  {
   "cell_type": "markdown",
   "metadata": {
    "ExecuteTime": {
     "end_time": "2017-05-26T13:58:41.461450Z",
     "start_time": "2017-05-26T13:58:41.458421Z"
    }
   },
   "source": [
    "# Basics"
   ]
  },
  {
   "cell_type": "markdown",
   "metadata": {},
   "source": [
    "## Placeholders, constants, operations and session"
   ]
  },
  {
   "cell_type": "markdown",
   "metadata": {},
   "source": [
    "A `placeholder` returns a `Tensor` that may be used as a handle for feeding a value, but not evaluated directly.\n",
    "\n",
    "It allows us to create our operations and build our computation graph, without needing the data."
   ]
  },
  {
   "cell_type": "code",
   "execution_count": 2,
   "metadata": {
    "ExecuteTime": {
     "end_time": "2017-05-26T15:54:07.053792Z",
     "start_time": "2017-05-26T15:54:07.018243Z"
    },
    "collapsed": true
   },
   "outputs": [],
   "source": [
    "a = tf.placeholder(tf.float32, shape=(), name= 'a')\n",
    "b = tf.placeholder(tf.float32, shape=(), name='b')"
   ]
  },
  {
   "cell_type": "markdown",
   "metadata": {},
   "source": [
    "A `placeholder_with_default` returns a `Tensor` that has the same type as `input`. It is a placeholder tensor that defaults to `input` if it is not fed."
   ]
  },
  {
   "cell_type": "code",
   "execution_count": 3,
   "metadata": {
    "ExecuteTime": {
     "end_time": "2017-05-26T15:54:07.068855Z",
     "start_time": "2017-05-26T15:54:07.055751Z"
    },
    "collapsed": true
   },
   "outputs": [],
   "source": [
    "c = tf.placeholder_with_default(5.0, shape=(), name='c')"
   ]
  },
  {
   "cell_type": "markdown",
   "metadata": {},
   "source": [
    "Another type of node is a `constant`. Like all TensorFlow constants, it takes no inputs, and it outputs a value it stores internally. This `Tensor` can be evaluated directly, it doesn't need to be fed a value."
   ]
  },
  {
   "cell_type": "code",
   "execution_count": 4,
   "metadata": {
    "ExecuteTime": {
     "end_time": "2017-05-26T15:54:07.088506Z",
     "start_time": "2017-05-26T15:54:07.079772Z"
    },
    "collapsed": true
   },
   "outputs": [],
   "source": [
    "d = tf.constant(4.5, tf.float32)"
   ]
  },
  {
   "cell_type": "markdown",
   "metadata": {},
   "source": [
    "Placeholders do not need to be statically sized. Let’s create placeholders `e` that can take on any length and `f` that can be fed any number of rows with 3 dimensional columns"
   ]
  },
  {
   "cell_type": "code",
   "execution_count": 11,
   "metadata": {
    "ExecuteTime": {
     "end_time": "2017-05-26T19:49:13.313725Z",
     "start_time": "2017-05-26T19:49:13.291092Z"
    },
    "collapsed": true
   },
   "outputs": [],
   "source": [
    "e = tf.placeholder(tf.float32, None)\n",
    "f = tf.placeholder(tf.float32, (None, 3))"
   ]
  },
  {
   "cell_type": "markdown",
   "metadata": {},
   "source": [
    "Let's define basic symbolic operations.\n",
    "\n",
    "An `Operation` is a node in a TensorFlow `Graph` that takes zero or more `Tensor` objects as input, and produces zero or more `Tensor` objects as output.\n",
    "\n",
    "For example `mul = tf.multiply(a, b)` creates an `Operation` of type `multiply` that takes tensors `a` and `b` as input, and produces `mul` as output."
   ]
  },
  {
   "cell_type": "code",
   "execution_count": 12,
   "metadata": {
    "ExecuteTime": {
     "end_time": "2017-05-26T20:04:02.642596Z",
     "start_time": "2017-05-26T20:04:02.625527Z"
    },
    "collapsed": true
   },
   "outputs": [],
   "source": [
    "mul = tf.multiply(a, b)\n",
    "mul_with_default = tf.multiply(a, c)\n",
    "mul_with_constant = tf.multiply(a, d)\n",
    "mul_short = a * b # Shortcut\n",
    "mul_with_dynamic_shape_vector = mul_short * e # Build consecutive operations in the computation graph\n",
    "mul_with_dynamic_shape_matrix = a * f"
   ]
  },
  {
   "cell_type": "markdown",
   "metadata": {},
   "source": [
    "A `Session` is a class for running TensorFlow operations.\n",
    "\n",
    "A `Session` object encapsulates the environment in which `Operation` objects are executed, and `Tensor` objects are evaluated."
   ]
  },
  {
   "cell_type": "code",
   "execution_count": 23,
   "metadata": {
    "ExecuteTime": {
     "end_time": "2017-05-26T20:10:42.529043Z",
     "start_time": "2017-05-26T20:10:42.501055Z"
    }
   },
   "outputs": [
    {
     "name": "stdout",
     "output_type": "stream",
     "text": [
      "Multiply two tensors: 6.0\n",
      "Multiply with a default placeholder: 10.0\n",
      "Multiply with a default placeholder taht is fed a value: 16.0\n",
      "Multiply with a constant: 9.0\n",
      "Multiply two tensors using the short definition for the node: 6.0\n",
      "Use a dynamic shape array: [ 12.  18.  24.]\n",
      "Use a dynamic shape array: [[ 4.  6.  8.]\n",
      " [ 8.  6.  4.]]\n"
     ]
    }
   ],
   "source": [
    "with tf.Session() as sess:\n",
    "    print(\"Multiply two tensors: {}\".format(\n",
    "        sess.run(mul, feed_dict={a: 2, b: 3})))\n",
    "    print(\"Multiply with a default placeholder: {}\".format(\n",
    "        sess.run(mul_with_default, feed_dict={a:2})))\n",
    "    print(\"Multiply with a default placeholder taht is fed a value: {}\".format(\n",
    "        sess.run(mul_with_default, feed_dict={a:2, c:8})))\n",
    "    print(\"Multiply with a constant: {}\".format(\n",
    "        sess.run(mul_with_constant, feed_dict={a:2})))\n",
    "    print(\"Multiply two tensors using the short definition for the node: {}\".format(\n",
    "        sess.run(mul_short, feed_dict={a:2, b:3})))\n",
    "    print(\"Use a dynamic shape array: {}\".format(\n",
    "        sess.run(mul_with_dynamic_shape_vector, feed_dict={a:2, b:3, e:[2, 3, 4]})))\n",
    "    print(\"Use a dynamic shape array: {}\".format(\n",
    "        sess.run(mul_with_dynamic_shape_matrix, feed_dict={a:2, f:[[2, 3, 4], [4, 3, 2]]})))"
   ]
  },
  {
   "cell_type": "markdown",
   "metadata": {},
   "source": [
    "A `Session` can also be opened without the context manager (`with` statement)"
   ]
  },
  {
   "cell_type": "code",
   "execution_count": 7,
   "metadata": {
    "ExecuteTime": {
     "end_time": "2017-05-26T15:54:07.187292Z",
     "start_time": "2017-05-26T15:54:07.157846Z"
    }
   },
   "outputs": [
    {
     "name": "stdout",
     "output_type": "stream",
     "text": [
      "Multiply two tensors: 6.0\n",
      "Multiply two tensors: 6.0\n"
     ]
    }
   ],
   "source": [
    "sess = tf.Session()\n",
    "print(\"Multiply two tensors: {}\".format(sess.run(mul, feed_dict={a: 2, b: 3})))\n",
    "print(\"Multiply two tensors: {}\".format(mul.eval(feed_dict={a: 2, b: 3}, session=sess)))\n",
    "sess.close()"
   ]
  },
  {
   "cell_type": "markdown",
   "metadata": {
    "ExecuteTime": {
     "end_time": "2017-05-26T15:30:56.959439Z",
     "start_time": "2017-05-26T15:30:56.953935Z"
    }
   },
   "source": [
    "In order to ease the work in interactive environments such as IPython notebooks or a shell, Tensorflow provides `InteractiveSession`. \n",
    "\n",
    "The only difference with a regular `Session` is that an `InteractiveSession` installs itself as the default session on construction. The methods `Tensor.eval()` and `Operation.run()` will use that session to run ops.\n",
    "\n",
    "This is convenient in interactive shells and IPython notebooks, as it avoids having to pass an explicit Session object to run ops.\n",
    "\n",
    "Note that a regular session installs itself as the default session when it is created in a `with` statement. "
   ]
  },
  {
   "cell_type": "code",
   "execution_count": 8,
   "metadata": {
    "ExecuteTime": {
     "end_time": "2017-05-26T15:54:07.194252Z",
     "start_time": "2017-05-26T15:54:07.189523Z"
    },
    "collapsed": true
   },
   "outputs": [],
   "source": [
    "sess = tf.InteractiveSession()"
   ]
  },
  {
   "cell_type": "code",
   "execution_count": 9,
   "metadata": {
    "ExecuteTime": {
     "end_time": "2017-05-26T15:54:07.219066Z",
     "start_time": "2017-05-26T15:54:07.201594Z"
    }
   },
   "outputs": [
    {
     "name": "stdout",
     "output_type": "stream",
     "text": [
      "6.0\n"
     ]
    }
   ],
   "source": [
    "# We can just use 'mul.eval()' without passing 'sess'\n",
    "print(mul.eval(feed_dict={a: 2, b: 3}))"
   ]
  },
  {
   "cell_type": "code",
   "execution_count": 10,
   "metadata": {
    "ExecuteTime": {
     "end_time": "2017-05-26T15:54:07.226923Z",
     "start_time": "2017-05-26T15:54:07.221841Z"
    },
    "collapsed": true
   },
   "outputs": [],
   "source": [
    "sess.close()"
   ]
  },
  {
   "cell_type": "markdown",
   "metadata": {},
   "source": [
    "## Variables"
   ]
  },
  {
   "cell_type": "markdown",
   "metadata": {},
   "source": [
    "A variable maintains state in the graph across calls to `run()`. You add a variable to the graph by constructing an instance of the class `Variable`.\n",
    "\n",
    "The `Variable()` constructor requires an initial value for the variable, which can be a `Tensor` of any type and shape. The initial value defines the type and shape of the variable. After construction, the type and shape of the variable are fixed. The value can be changed using one of the assign methods.\n",
    "\n",
    "If you want to change the shape of a variable later you have to use an assign Op with `validate_shape=False`.\n",
    "\n",
    "Just like any `Tensor`, variables created with `Variable()` can be used as inputs for other Ops in the graph. Additionally, all the operators overloaded for the `Tensor` class are carried over to variables, so you can also add nodes to the graph by just doing arithmetic on variables."
   ]
  },
  {
   "cell_type": "code",
   "execution_count": 25,
   "metadata": {
    "ExecuteTime": {
     "end_time": "2017-05-26T22:28:07.201049Z",
     "start_time": "2017-05-26T22:28:07.150042Z"
    }
   },
   "outputs": [
    {
     "name": "stdout",
     "output_type": "stream",
     "text": [
      "0\n",
      "1\n",
      "2\n",
      "3\n"
     ]
    }
   ],
   "source": [
    "# Create a Variable, that will be initialized to the scalar value 0.\n",
    "state = tf.Variable(0, name=\"counter\")\n",
    "\n",
    "# Create an Op to add one to `state`.\n",
    "one = tf.constant(1)\n",
    "new_value = tf.add(state, one)\n",
    "update = tf.assign(state, new_value)\n",
    "\n",
    "# Variables must be initialized by running an `init` Op after having\n",
    "# launched the graph.  We first have to add the `init` Op to the graph.\n",
    "init_op = tf.global_variables_initializer()\n",
    "\n",
    "# Launch the graph and run the ops.\n",
    "with tf.Session() as sess:\n",
    "  # Run the 'init' op\n",
    "  sess.run(init_op)\n",
    "  # Print the initial value of 'state'\n",
    "  print(sess.run(state))\n",
    "  # Run the op that updates 'state' and print 'state'.\n",
    "  for _ in range(3):\n",
    "    sess.run(update)\n",
    "    print(sess.run(state))"
   ]
  },
  {
   "cell_type": "markdown",
   "metadata": {},
   "source": [
    "If you need to create a variable with an initial value dependent on another variable, use the other variable's `initialized_value()`. This ensures that variables are initialized in the right order.\n",
    "\n"
   ]
  },
  {
   "cell_type": "code",
   "execution_count": 27,
   "metadata": {
    "ExecuteTime": {
     "end_time": "2017-05-26T22:33:03.608206Z",
     "start_time": "2017-05-26T22:33:03.560081Z"
    },
    "collapsed": true
   },
   "outputs": [],
   "source": [
    "# Create a variable with a random value.\n",
    "weights = tf.Variable(tf.random_normal([784, 200], stddev=0.35),\n",
    "                      name=\"weights\")\n",
    "# Create another variable with the same value as 'weights'.\n",
    "w2 = tf.Variable(weights.initialized_value(), name=\"w2\")\n",
    "# Create another variable with twice the value of 'weights'\n",
    "w_twice = tf.Variable(weights.initialized_value() * 2.0, name=\"w_twice\")"
   ]
  },
  {
   "cell_type": "markdown",
   "metadata": {},
   "source": [
    "All variables are automatically collected in the graph where they are created. By default, the constructor adds the new variable to the graph collection `GraphKeys.GLOBAL_VARIABLES`. The convenience function `global_variables()` returns the contents of that collection.\n",
    "\n",
    "When building a machine learning model it is often convenient to distinguish between variables holding the trainable model parameters and other variables such as a global step variable used to count training steps. To make this easier, the variable constructor supports a `trainable=<bool>` parameter. If `True`, the new variable is also added to the graph collection `GraphKeys.TRAINABLE_VARIABLES`. The convenience function `trainable_variables()` returns the contents of this collection. The various `Optimizer` classes use this collection as th£e default list of variables to optimize."
   ]
  },
  {
   "cell_type": "markdown",
   "metadata": {},
   "source": [
    "# Useful operations"
   ]
  },
  {
   "cell_type": "code",
   "execution_count": null,
   "metadata": {
    "collapsed": true
   },
   "outputs": [],
   "source": []
  }
 ],
 "metadata": {
  "kernelspec": {
   "display_name": "Python 3",
   "language": "python",
   "name": "python3"
  },
  "language_info": {
   "codemirror_mode": {
    "name": "ipython",
    "version": 3
   },
   "file_extension": ".py",
   "mimetype": "text/x-python",
   "name": "python",
   "nbconvert_exporter": "python",
   "pygments_lexer": "ipython3",
   "version": "3.6.1"
  },
  "toc": {
   "colors": {
    "hover_highlight": "#DAA520",
    "navigate_num": "#000000",
    "navigate_text": "#333333",
    "running_highlight": "#FF0000",
    "selected_highlight": "#FFD700",
    "sidebar_border": "#EEEEEE",
    "wrapper_background": "#FFFFFF"
   },
   "moveMenuLeft": true,
   "nav_menu": {
    "height": "58px",
    "width": "254px"
   },
   "navigate_menu": true,
   "number_sections": true,
   "sideBar": true,
   "threshold": 4,
   "toc_cell": false,
   "toc_section_display": "block",
   "toc_window_display": false,
   "widenNotebook": false
  }
 },
 "nbformat": 4,
 "nbformat_minor": 2
}
