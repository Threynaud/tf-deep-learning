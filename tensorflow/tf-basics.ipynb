{
 "cells": [
  {
   "cell_type": "code",
   "execution_count": 1,
   "metadata": {
    "ExecuteTime": {
     "end_time": "2017-05-27T16:06:54.919461Z",
     "start_time": "2017-05-27T16:06:53.606550Z"
    },
    "collapsed": true
   },
   "outputs": [],
   "source": [
    "import tensorflow as tf\n",
    "import numpy as np"
   ]
  },
  {
   "cell_type": "markdown",
   "metadata": {
    "ExecuteTime": {
     "end_time": "2017-05-26T13:58:41.461450Z",
     "start_time": "2017-05-26T13:58:41.458421Z"
    }
   },
   "source": [
    "# Basics"
   ]
  },
  {
   "cell_type": "markdown",
   "metadata": {},
   "source": [
    "## Placeholders, constants, operations and session"
   ]
  },
  {
   "cell_type": "markdown",
   "metadata": {},
   "source": [
    "A `placeholder` returns a `Tensor` that may be used as a handle for feeding a value, but not evaluated directly.\n",
    "\n",
    "It allows us to create our operations and build our computation graph, without needing the data."
   ]
  },
  {
   "cell_type": "code",
   "execution_count": 2,
   "metadata": {
    "ExecuteTime": {
     "end_time": "2017-05-27T16:06:54.951242Z",
     "start_time": "2017-05-27T16:06:54.921193Z"
    },
    "collapsed": true
   },
   "outputs": [],
   "source": [
    "a = tf.placeholder(tf.float32, shape=(), name= 'a')\n",
    "b = tf.placeholder(tf.float32, shape=(), name='b')"
   ]
  },
  {
   "cell_type": "markdown",
   "metadata": {},
   "source": [
    "A `placeholder_with_default` returns a `Tensor` that has the same type as `input`. It is a placeholder tensor that defaults to `input` if it is not fed."
   ]
  },
  {
   "cell_type": "code",
   "execution_count": 3,
   "metadata": {
    "ExecuteTime": {
     "end_time": "2017-05-27T16:06:54.969465Z",
     "start_time": "2017-05-27T16:06:54.954799Z"
    },
    "collapsed": true
   },
   "outputs": [],
   "source": [
    "c = tf.placeholder_with_default(5.0, shape=(), name='c')"
   ]
  },
  {
   "cell_type": "markdown",
   "metadata": {},
   "source": [
    "Another type of node is a `constant`. Like all TensorFlow constants, it takes no inputs, and it outputs a value it stores internally. This `Tensor` can be evaluated directly, it doesn't need to be fed a value."
   ]
  },
  {
   "cell_type": "code",
   "execution_count": 4,
   "metadata": {
    "ExecuteTime": {
     "end_time": "2017-05-27T16:06:54.980822Z",
     "start_time": "2017-05-27T16:06:54.972055Z"
    },
    "collapsed": true
   },
   "outputs": [],
   "source": [
    "d = tf.constant(4.5, tf.float32)"
   ]
  },
  {
   "cell_type": "markdown",
   "metadata": {},
   "source": [
    "Placeholders do not need to be statically sized. Let’s create placeholders `e` that can take on any length and `f` that can be fed any number of rows with 3 dimensional columns"
   ]
  },
  {
   "cell_type": "code",
   "execution_count": 5,
   "metadata": {
    "ExecuteTime": {
     "end_time": "2017-05-27T16:06:55.008178Z",
     "start_time": "2017-05-27T16:06:54.983461Z"
    },
    "collapsed": true
   },
   "outputs": [],
   "source": [
    "e = tf.placeholder(tf.float32, None)\n",
    "f = tf.placeholder(tf.float32, (None, 3))"
   ]
  },
  {
   "cell_type": "markdown",
   "metadata": {},
   "source": [
    "Let's define basic symbolic operations.\n",
    "\n",
    "An `Operation` is a node in a TensorFlow `Graph` that takes zero or more `Tensor` objects as input, and produces zero or more `Tensor` objects as output.\n",
    "\n",
    "For example `mul = tf.multiply(a, b)` creates an `Operation` of type `multiply` that takes tensors `a` and `b` as input, and produces `mul` as output."
   ]
  },
  {
   "cell_type": "code",
   "execution_count": 6,
   "metadata": {
    "ExecuteTime": {
     "end_time": "2017-05-27T16:06:55.040497Z",
     "start_time": "2017-05-27T16:06:55.017298Z"
    },
    "collapsed": true
   },
   "outputs": [],
   "source": [
    "mul = tf.multiply(a, b)\n",
    "mul_with_default = tf.multiply(a, c)\n",
    "mul_with_constant = tf.multiply(a, d)\n",
    "mul_short = a * b # Shortcut\n",
    "mul_with_dynamic_shape_vector = mul_short * e # Build consecutive operations in the computation graph\n",
    "mul_with_dynamic_shape_matrix = a * f"
   ]
  },
  {
   "cell_type": "markdown",
   "metadata": {},
   "source": [
    "A `Session` is a class for running TensorFlow operations.\n",
    "\n",
    "A `Session` object encapsulates the environment in which `Operation` objects are executed, and `Tensor` objects are evaluated."
   ]
  },
  {
   "cell_type": "code",
   "execution_count": 7,
   "metadata": {
    "ExecuteTime": {
     "end_time": "2017-05-27T16:06:55.083751Z",
     "start_time": "2017-05-27T16:06:55.042721Z"
    }
   },
   "outputs": [
    {
     "name": "stdout",
     "output_type": "stream",
     "text": [
      "Multiply two tensors: 6.0\n",
      "Multiply with a default placeholder: 10.0\n",
      "Multiply with a default placeholder taht is fed a value: 16.0\n",
      "Multiply with a constant: 9.0\n",
      "Multiply two tensors using the short definition for the node: 6.0\n",
      "Use a dynamic shape array: [ 12.  18.  24.]\n",
      "Use a dynamic shape array: [[ 4.  6.  8.]\n",
      " [ 8.  6.  4.]]\n"
     ]
    }
   ],
   "source": [
    "with tf.Session() as sess:\n",
    "    print(\"Multiply two tensors: {}\".format(\n",
    "        sess.run(mul, feed_dict={a: 2, b: 3})))\n",
    "    print(\"Multiply with a default placeholder: {}\".format(\n",
    "        sess.run(mul_with_default, feed_dict={a:2})))\n",
    "    print(\"Multiply with a default placeholder taht is fed a value: {}\".format(\n",
    "        sess.run(mul_with_default, feed_dict={a:2, c:8})))\n",
    "    print(\"Multiply with a constant: {}\".format(\n",
    "        sess.run(mul_with_constant, feed_dict={a:2})))\n",
    "    print(\"Multiply two tensors using the short definition for the node: {}\".format(\n",
    "        sess.run(mul_short, feed_dict={a:2, b:3})))\n",
    "    print(\"Use a dynamic shape array: {}\".format(\n",
    "        sess.run(mul_with_dynamic_shape_vector, feed_dict={a:2, b:3, e:[2, 3, 4]})))\n",
    "    print(\"Use a dynamic shape array: {}\".format(\n",
    "        sess.run(mul_with_dynamic_shape_matrix, feed_dict={a:2, f:[[2, 3, 4], [4, 3, 2]]})))"
   ]
  },
  {
   "cell_type": "markdown",
   "metadata": {},
   "source": [
    "A `Session` can also be opened without the context manager (`with` statement)"
   ]
  },
  {
   "cell_type": "code",
   "execution_count": 8,
   "metadata": {
    "ExecuteTime": {
     "end_time": "2017-05-27T16:06:55.101609Z",
     "start_time": "2017-05-27T16:06:55.085594Z"
    }
   },
   "outputs": [
    {
     "name": "stdout",
     "output_type": "stream",
     "text": [
      "Multiply two tensors: 6.0\n",
      "Multiply two tensors: 6.0\n"
     ]
    }
   ],
   "source": [
    "sess = tf.Session()\n",
    "print(\"Multiply two tensors: {}\".format(sess.run(mul, feed_dict={a: 2, b: 3})))\n",
    "print(\"Multiply two tensors: {}\".format(mul.eval(feed_dict={a: 2, b: 3}, session=sess)))\n",
    "sess.close()"
   ]
  },
  {
   "cell_type": "markdown",
   "metadata": {
    "ExecuteTime": {
     "end_time": "2017-05-26T15:30:56.959439Z",
     "start_time": "2017-05-26T15:30:56.953935Z"
    }
   },
   "source": [
    "In order to ease the work in interactive environments such as IPython notebooks or a shell, Tensorflow provides `InteractiveSession`. \n",
    "\n",
    "The only difference with a regular `Session` is that an `InteractiveSession` installs itself as the default session on construction. The methods `Tensor.eval()` and `Operation.run()` will use that session to run ops.\n",
    "\n",
    "This is convenient in interactive shells and IPython notebooks, as it avoids having to pass an explicit Session object to run ops.\n",
    "\n",
    "Note that a regular session installs itself as the default session when it is created in a `with` statement. "
   ]
  },
  {
   "cell_type": "code",
   "execution_count": 9,
   "metadata": {
    "ExecuteTime": {
     "end_time": "2017-05-27T16:06:55.107997Z",
     "start_time": "2017-05-27T16:06:55.103615Z"
    },
    "collapsed": true
   },
   "outputs": [],
   "source": [
    "sess = tf.InteractiveSession()"
   ]
  },
  {
   "cell_type": "code",
   "execution_count": 10,
   "metadata": {
    "ExecuteTime": {
     "end_time": "2017-05-27T16:06:55.124495Z",
     "start_time": "2017-05-27T16:06:55.112003Z"
    }
   },
   "outputs": [
    {
     "name": "stdout",
     "output_type": "stream",
     "text": [
      "6.0\n"
     ]
    }
   ],
   "source": [
    "# We can just use 'mul.eval()' without passing 'sess'\n",
    "print(mul.eval(feed_dict={a: 2, b: 3}))"
   ]
  },
  {
   "cell_type": "code",
   "execution_count": 11,
   "metadata": {
    "ExecuteTime": {
     "end_time": "2017-05-27T16:06:55.132034Z",
     "start_time": "2017-05-27T16:06:55.127376Z"
    },
    "collapsed": true
   },
   "outputs": [],
   "source": [
    "sess.close()"
   ]
  },
  {
   "cell_type": "markdown",
   "metadata": {},
   "source": [
    "## Variables"
   ]
  },
  {
   "cell_type": "markdown",
   "metadata": {},
   "source": [
    "A variable maintains state in the graph across calls to `run()`. You add a variable to the graph by constructing an instance of the class `Variable`.\n",
    "\n",
    "The `Variable()` constructor requires an initial value for the variable, which can be a `Tensor` of any type and shape. The initial value defines the type and shape of the variable. After construction, the type and shape of the variable are fixed. The value can be changed using one of the assign methods.\n",
    "\n",
    "If you want to change the shape of a variable later you have to use an assign Op with `validate_shape=False`.\n",
    "\n",
    "Just like any `Tensor`, variables created with `Variable()` can be used as inputs for other Ops in the graph. Additionally, all the operators overloaded for the `Tensor` class are carried over to variables, so you can also add nodes to the graph by just doing arithmetic on variables."
   ]
  },
  {
   "cell_type": "code",
   "execution_count": 12,
   "metadata": {
    "ExecuteTime": {
     "end_time": "2017-05-27T16:06:55.180422Z",
     "start_time": "2017-05-27T16:06:55.134083Z"
    }
   },
   "outputs": [
    {
     "name": "stdout",
     "output_type": "stream",
     "text": [
      "0\n",
      "1\n",
      "2\n",
      "3\n"
     ]
    }
   ],
   "source": [
    "# Create a Variable, that will be initialized to the scalar value 0.\n",
    "state = tf.Variable(0, name=\"counter\")\n",
    "\n",
    "# Create an Op to add one to `state`.\n",
    "one = tf.constant(1)\n",
    "new_value = tf.add(state, one)\n",
    "update = tf.assign(state, new_value)\n",
    "\n",
    "# Variables must be initialized by running an `init` Op after having\n",
    "# launched the graph.  We first have to add the `init` Op to the graph.\n",
    "init_op = tf.global_variables_initializer()\n",
    "\n",
    "# Launch the graph and run the ops.\n",
    "with tf.Session() as sess:\n",
    "  # Run the 'init' op\n",
    "  sess.run(init_op)\n",
    "  # Print the initial value of 'state'\n",
    "  print(sess.run(state))\n",
    "  # Run the op that updates 'state' and print 'state'.\n",
    "  for _ in range(3):\n",
    "    sess.run(update)\n",
    "    print(sess.run(state))"
   ]
  },
  {
   "cell_type": "markdown",
   "metadata": {},
   "source": [
    "If you need to create a variable with an initial value dependent on another variable, use the other variable's `initialized_value()`. This ensures that variables are initialized in the right order.\n",
    "\n"
   ]
  },
  {
   "cell_type": "code",
   "execution_count": 13,
   "metadata": {
    "ExecuteTime": {
     "end_time": "2017-05-27T16:06:55.243783Z",
     "start_time": "2017-05-27T16:06:55.182993Z"
    },
    "collapsed": true
   },
   "outputs": [],
   "source": [
    "# Create a variable with a random value.\n",
    "weights = tf.Variable(tf.random_normal([784, 200], stddev=0.35),\n",
    "                      name=\"weights\")\n",
    "# Create another variable with the same value as 'weights'.\n",
    "w2 = tf.Variable(weights.initialized_value(), name=\"w2\")\n",
    "# Create another variable with twice the value of 'weights'\n",
    "w_twice = tf.Variable(weights.initialized_value() * 2.0, name=\"w_twice\")"
   ]
  },
  {
   "cell_type": "markdown",
   "metadata": {},
   "source": [
    "All variables are automatically collected in the graph where they are created. By default, the constructor adds the new variable to the graph collection `GraphKeys.GLOBAL_VARIABLES`. The convenience function `global_variables()` returns the contents of that collection.\n",
    "\n",
    "When building a machine learning model it is often convenient to distinguish between variables holding the trainable model parameters and other variables such as a global step variable used to count training steps. To make this easier, the variable constructor supports a `trainable=<bool>` parameter. If `True`, the new variable is also added to the graph collection `GraphKeys.TRAINABLE_VARIABLES`. The convenience function `trainable_variables()` returns the contents of this collection. The various `Optimizer` classes use this collection as th£e default list of variables to optimize."
   ]
  },
  {
   "cell_type": "markdown",
   "metadata": {},
   "source": [
    "# Useful operations"
   ]
  },
  {
   "cell_type": "markdown",
   "metadata": {
    "ExecuteTime": {
     "end_time": "2017-05-27T10:30:05.179391Z",
     "start_time": "2017-05-27T10:30:05.159205Z"
    }
   },
   "source": [
    "## Math"
   ]
  },
  {
   "cell_type": "code",
   "execution_count": 14,
   "metadata": {
    "ExecuteTime": {
     "end_time": "2017-05-27T16:06:55.251674Z",
     "start_time": "2017-05-27T16:06:55.246051Z"
    },
    "collapsed": true
   },
   "outputs": [],
   "source": [
    "sess = tf.InteractiveSession()"
   ]
  },
  {
   "cell_type": "code",
   "execution_count": 15,
   "metadata": {
    "ExecuteTime": {
     "end_time": "2017-05-27T16:06:55.273835Z",
     "start_time": "2017-05-27T16:06:55.253987Z"
    },
    "collapsed": true
   },
   "outputs": [],
   "source": [
    "a = tf.constant(3.)\n",
    "b = tf.constant(4.)\n",
    "c = tf.constant([1, 2, 3], dtype=tf.float32)\n",
    "d = tf.constant([3, 4, 5], dtype=tf.float32)\n",
    "e = tf.constant([[2, 4, 6], [3, 5, 7], [0, 3, 1]], dtype=tf.float32)\n",
    "f = tf.constant([-1, 2, -3], dtype=tf.float32)"
   ]
  },
  {
   "cell_type": "markdown",
   "metadata": {
    "ExecuteTime": {
     "end_time": "2017-05-27T10:44:22.943727Z",
     "start_time": "2017-05-27T10:44:22.941232Z"
    }
   },
   "source": [
    "### Arithmetic operators"
   ]
  },
  {
   "cell_type": "code",
   "execution_count": 16,
   "metadata": {
    "ExecuteTime": {
     "end_time": "2017-05-27T16:06:55.341372Z",
     "start_time": "2017-05-27T16:06:55.275998Z"
    }
   },
   "outputs": [
    {
     "name": "stdout",
     "output_type": "stream",
     "text": [
      "7.0\n",
      "[ 4.  6.  8.]\n",
      "[[  3.   6.   9.]\n",
      " [  4.   7.  10.]\n",
      " [  1.   5.   4.]]\n"
     ]
    }
   ],
   "source": [
    "# Sum\n",
    "print(tf.add(a, b).eval())\n",
    "print(tf.add(c, d).eval())\n",
    "print(tf.add(c, e).eval())"
   ]
  },
  {
   "cell_type": "code",
   "execution_count": 17,
   "metadata": {
    "ExecuteTime": {
     "end_time": "2017-05-27T16:06:55.361869Z",
     "start_time": "2017-05-27T16:06:55.343985Z"
    }
   },
   "outputs": [
    {
     "name": "stdout",
     "output_type": "stream",
     "text": [
      "12.0\n",
      "[  3.   8.  15.]\n"
     ]
    }
   ],
   "source": [
    "# Mul\n",
    "print(tf.multiply(a, b).eval())\n",
    "print(tf.multiply(c, d).eval())"
   ]
  },
  {
   "cell_type": "code",
   "execution_count": 18,
   "metadata": {
    "ExecuteTime": {
     "end_time": "2017-05-27T16:06:55.381605Z",
     "start_time": "2017-05-27T16:06:55.364140Z"
    }
   },
   "outputs": [
    {
     "name": "stdout",
     "output_type": "stream",
     "text": [
      "0.75\n",
      "[ 3.          2.          1.66666663]\n"
     ]
    }
   ],
   "source": [
    "# Div\n",
    "print(tf.divide(a, b).eval())\n",
    "print(tf.divide(d, c).eval())"
   ]
  },
  {
   "cell_type": "code",
   "execution_count": 19,
   "metadata": {
    "ExecuteTime": {
     "end_time": "2017-05-27T16:06:55.393813Z",
     "start_time": "2017-05-27T16:06:55.384275Z"
    }
   },
   "outputs": [
    {
     "name": "stdout",
     "output_type": "stream",
     "text": [
      "1.0\n"
     ]
    }
   ],
   "source": [
    "# Mod\n",
    "print(tf.mod(b, a).eval())"
   ]
  },
  {
   "cell_type": "markdown",
   "metadata": {},
   "source": [
    "### Basic math functions"
   ]
  },
  {
   "cell_type": "code",
   "execution_count": 20,
   "metadata": {
    "ExecuteTime": {
     "end_time": "2017-05-27T16:06:55.406636Z",
     "start_time": "2017-05-27T16:06:55.396739Z"
    }
   },
   "outputs": [
    {
     "name": "stdout",
     "output_type": "stream",
     "text": [
      "0.333333\n"
     ]
    }
   ],
   "source": [
    "print(tf.reciprocal(a).eval())"
   ]
  },
  {
   "cell_type": "code",
   "execution_count": 21,
   "metadata": {
    "ExecuteTime": {
     "end_time": "2017-05-27T16:06:55.421089Z",
     "start_time": "2017-05-27T16:06:55.408779Z"
    }
   },
   "outputs": [
    {
     "name": "stdout",
     "output_type": "stream",
     "text": [
      "[-1.  1. -1.]\n"
     ]
    }
   ],
   "source": [
    "print(tf.sign(f).eval())"
   ]
  },
  {
   "cell_type": "code",
   "execution_count": 22,
   "metadata": {
    "ExecuteTime": {
     "end_time": "2017-05-27T16:06:55.434693Z",
     "start_time": "2017-05-27T16:06:55.423379Z"
    }
   },
   "outputs": [
    {
     "name": "stdout",
     "output_type": "stream",
     "text": [
      "[[  4.  16.  36.]\n",
      " [  9.  25.  49.]\n",
      " [  0.   9.   1.]]\n"
     ]
    }
   ],
   "source": [
    "print(tf.square(e).eval())"
   ]
  },
  {
   "cell_type": "code",
   "execution_count": 23,
   "metadata": {
    "ExecuteTime": {
     "end_time": "2017-05-27T16:06:55.445802Z",
     "start_time": "2017-05-27T16:06:55.436813Z"
    }
   },
   "outputs": [
    {
     "name": "stdout",
     "output_type": "stream",
     "text": [
      "[ 0.54030228 -0.41614684 -0.9899925 ]\n"
     ]
    }
   ],
   "source": [
    "print(tf.cos(c).eval())"
   ]
  },
  {
   "cell_type": "code",
   "execution_count": 24,
   "metadata": {
    "ExecuteTime": {
     "end_time": "2017-05-27T16:06:55.458773Z",
     "start_time": "2017-05-27T16:06:55.448587Z"
    }
   },
   "outputs": [
    {
     "name": "stdout",
     "output_type": "stream",
     "text": [
      "[  2.71828175   7.38905621  20.08553696]\n"
     ]
    }
   ],
   "source": [
    "print(tf.exp(c).eval())"
   ]
  },
  {
   "cell_type": "code",
   "execution_count": 25,
   "metadata": {
    "ExecuteTime": {
     "end_time": "2017-05-27T16:06:55.471104Z",
     "start_time": "2017-05-27T16:06:55.461059Z"
    }
   },
   "outputs": [
    {
     "name": "stdout",
     "output_type": "stream",
     "text": [
      "[ 3.  4.  5.]\n"
     ]
    }
   ],
   "source": [
    "print(tf.maximum(c, d).eval())"
   ]
  },
  {
   "cell_type": "markdown",
   "metadata": {},
   "source": [
    "## Matrix functions"
   ]
  },
  {
   "cell_type": "markdown",
   "metadata": {},
   "source": [
    "### MatMul"
   ]
  },
  {
   "cell_type": "markdown",
   "metadata": {},
   "source": [
    "```\n",
    "matmul(\n",
    "    a,\n",
    "    b,\n",
    "    transpose_a=False,\n",
    "    transpose_b=False,\n",
    "    adjoint_a=False,\n",
    "    adjoint_b=False,\n",
    "    a_is_sparse=False,\n",
    "    b_is_sparse=False,\n",
    "    name=None\n",
    ")\n",
    "```"
   ]
  },
  {
   "cell_type": "markdown",
   "metadata": {},
   "source": [
    "Multiplies matrix `a` by matrix `b`, producing `a * b`.\n",
    "\n",
    "The inputs must be matrices (or tensors of rank > 2, representing batches of matrices), with matching inner dimensions, possibly after transposition.\n",
    "\n",
    "Both matrices must be of the same type.\n",
    "\n",
    "Either matrix can be transposed or adjointed (conjugated and transposed) on the fly by setting one of the corresponding flag to `True`. These are `False` by default.\n",
    "\n",
    "If one or both of the matrices contain a lot of zeros, a more efficient multiplication algorithm can be used by setting the corresponding `a_is_sparse` or `b_is_sparse` flag to `True`. These are `False` by default. This optimization is only available for plain matrices (rank-2 tensors) with datatypes `bfloat16` or `float32`."
   ]
  },
  {
   "cell_type": "code",
   "execution_count": 26,
   "metadata": {
    "ExecuteTime": {
     "end_time": "2017-05-27T16:06:55.493022Z",
     "start_time": "2017-05-27T16:06:55.473335Z"
    }
   },
   "outputs": [
    {
     "name": "stdout",
     "output_type": "stream",
     "text": [
      "[[ 58  64]\n",
      " [139 154]]\n"
     ]
    }
   ],
   "source": [
    "# 2-D tensor `a`\n",
    "g = tf.constant([1, 2, 3, 4, 5, 6], shape=[2, 3])\n",
    "# 2-D tensor `b`\n",
    "h = tf.constant([7, 8, 9, 10, 11, 12], shape=[3, 2])\n",
    "\n",
    "print(tf.matmul(g, h).eval())"
   ]
  },
  {
   "cell_type": "code",
   "execution_count": 27,
   "metadata": {
    "ExecuteTime": {
     "end_time": "2017-05-27T16:06:55.511994Z",
     "start_time": "2017-05-27T16:06:55.495535Z"
    }
   },
   "outputs": [
    {
     "name": "stdout",
     "output_type": "stream",
     "text": [
      "[[[ 1  2  3]\n",
      "  [ 4  5  6]]\n",
      "\n",
      " [[ 7  8  9]\n",
      "  [10 11 12]]]\n"
     ]
    }
   ],
   "source": [
    "# 3-D tensor `a`\n",
    "i = tf.constant(np.arange(1, 13, dtype=np.int32), shape=[2, 2, 3])\n",
    "# 3-D tensor `b`\n",
    "j = tf.constant(np.arange(13, 25, dtype=np.int32), shape=[2, 3, 2])\n",
    "\n",
    "print(i.eval())"
   ]
  },
  {
   "cell_type": "code",
   "execution_count": 28,
   "metadata": {
    "ExecuteTime": {
     "end_time": "2017-05-27T16:06:55.526267Z",
     "start_time": "2017-05-27T16:06:55.515031Z"
    }
   },
   "outputs": [
    {
     "name": "stdout",
     "output_type": "stream",
     "text": [
      "[[[ 94 100]\n",
      "  [229 244]]\n",
      "\n",
      " [[508 532]\n",
      "  [697 730]]]\n"
     ]
    }
   ],
   "source": [
    "print(tf.matmul(i, j).eval())"
   ]
  },
  {
   "cell_type": "markdown",
   "metadata": {},
   "source": [
    "### Other matrix operations"
   ]
  },
  {
   "cell_type": "code",
   "execution_count": 29,
   "metadata": {
    "ExecuteTime": {
     "end_time": "2017-05-27T16:06:55.539433Z",
     "start_time": "2017-05-27T16:06:55.529558Z"
    }
   },
   "outputs": [
    {
     "name": "stdout",
     "output_type": "stream",
     "text": [
      "[[ 1.  0.  0.]\n",
      " [ 0.  2.  0.]\n",
      " [ 0.  0.  3.]]\n"
     ]
    }
   ],
   "source": [
    "print(tf.diag(c).eval())"
   ]
  },
  {
   "cell_type": "code",
   "execution_count": 30,
   "metadata": {
    "ExecuteTime": {
     "end_time": "2017-05-27T16:06:55.565818Z",
     "start_time": "2017-05-27T16:06:55.542110Z"
    }
   },
   "outputs": [
    {
     "name": "stdout",
     "output_type": "stream",
     "text": [
      "[[ 2.  3.  0.]\n",
      " [ 4.  5.  3.]\n",
      " [ 6.  7.  1.]]\n"
     ]
    }
   ],
   "source": [
    "print(tf.transpose(e).eval())"
   ]
  },
  {
   "cell_type": "code",
   "execution_count": 31,
   "metadata": {
    "ExecuteTime": {
     "end_time": "2017-05-27T16:06:55.597013Z",
     "start_time": "2017-05-27T16:06:55.567910Z"
    }
   },
   "outputs": [
    {
     "name": "stdout",
     "output_type": "stream",
     "text": [
      "3.74166\n",
      "3.0\n"
     ]
    }
   ],
   "source": [
    "print(tf.norm(c, ord='euclidean').eval())\n",
    "print(tf.norm(c, ord=np.inf).eval())"
   ]
  },
  {
   "cell_type": "code",
   "execution_count": 32,
   "metadata": {
    "ExecuteTime": {
     "end_time": "2017-05-27T16:06:55.609357Z",
     "start_time": "2017-05-27T16:06:55.599687Z"
    }
   },
   "outputs": [
    {
     "name": "stdout",
     "output_type": "stream",
     "text": [
      "10.0\n"
     ]
    }
   ],
   "source": [
    "print(tf.matrix_determinant(e).eval())"
   ]
  },
  {
   "cell_type": "code",
   "execution_count": 33,
   "metadata": {
    "ExecuteTime": {
     "end_time": "2017-05-27T16:06:55.623964Z",
     "start_time": "2017-05-27T16:06:55.612075Z"
    }
   },
   "outputs": [
    {
     "name": "stdout",
     "output_type": "stream",
     "text": [
      "[[-1.60000062  1.40000033 -0.20000009]\n",
      " [-0.3000001   0.20000008  0.40000004]\n",
      " [ 0.90000027 -0.6000002  -0.2       ]]\n"
     ]
    }
   ],
   "source": [
    "print(tf.matrix_inverse(e).eval())"
   ]
  },
  {
   "cell_type": "markdown",
   "metadata": {},
   "source": [
    "## Reduction"
   ]
  },
  {
   "cell_type": "markdown",
   "metadata": {},
   "source": [
    "Computes an operation on the elements across dimensions of a tensor.\n",
    "\n",
    "Reduces `input_tensor` along the dimensions given in `axis`. Unless `keep_dims` is `true`, the rank of the tensor is reduced by 1 for each entry in axis. If `keep_dims` is `true`, the reduced dimensions are retained with length 1.\n",
    "\n",
    "If `axis` has no entries, all dimensions are reduced, and a tensor with a single element is returned."
   ]
  },
  {
   "cell_type": "code",
   "execution_count": 34,
   "metadata": {
    "ExecuteTime": {
     "end_time": "2017-05-27T16:06:55.635453Z",
     "start_time": "2017-05-27T16:06:55.626326Z"
    }
   },
   "outputs": [
    {
     "name": "stdout",
     "output_type": "stream",
     "text": [
      "[[ 2.  4.  6.]\n",
      " [ 3.  5.  7.]\n",
      " [ 0.  3.  1.]]\n"
     ]
    }
   ],
   "source": [
    "print(e.eval())"
   ]
  },
  {
   "cell_type": "code",
   "execution_count": 35,
   "metadata": {
    "ExecuteTime": {
     "end_time": "2017-05-27T16:06:55.688424Z",
     "start_time": "2017-05-27T16:06:55.638218Z"
    }
   },
   "outputs": [
    {
     "name": "stdout",
     "output_type": "stream",
     "text": [
      "31.0\n",
      "[  5.  12.  14.]\n",
      "[ 12.  15.   4.]\n",
      "[[ 12.]\n",
      " [ 15.]\n",
      " [  4.]]\n",
      "31.0\n"
     ]
    }
   ],
   "source": [
    "print(tf.reduce_sum(e).eval())\n",
    "print(tf.reduce_sum(e, 0).eval())\n",
    "print(tf.reduce_sum(e, 1).eval())\n",
    "print(tf.reduce_sum(e, 1, keep_dims=True).eval())\n",
    "print(tf.reduce_sum(e, [0, 1]).eval())"
   ]
  }
 ],
 "metadata": {
  "kernelspec": {
   "display_name": "Python 3",
   "language": "python",
   "name": "python3"
  },
  "language_info": {
   "codemirror_mode": {
    "name": "ipython",
    "version": 3
   },
   "file_extension": ".py",
   "mimetype": "text/x-python",
   "name": "python",
   "nbconvert_exporter": "python",
   "pygments_lexer": "ipython3",
   "version": "3.6.1"
  },
  "toc": {
   "colors": {
    "hover_highlight": "#DAA520",
    "navigate_num": "#000000",
    "navigate_text": "#333333",
    "running_highlight": "#FF0000",
    "selected_highlight": "#FFD700",
    "sidebar_border": "#EEEEEE",
    "wrapper_background": "#FFFFFF"
   },
   "moveMenuLeft": true,
   "nav_menu": {
    "height": "58px",
    "width": "254px"
   },
   "navigate_menu": true,
   "number_sections": true,
   "sideBar": true,
   "threshold": 4,
   "toc_cell": false,
   "toc_section_display": "block",
   "toc_window_display": false,
   "widenNotebook": false
  }
 },
 "nbformat": 4,
 "nbformat_minor": 2
}
